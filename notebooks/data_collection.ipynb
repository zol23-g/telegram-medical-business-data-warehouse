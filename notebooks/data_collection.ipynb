{
 "cells": [
  {
   "cell_type": "markdown",
   "metadata": {},
   "source": [
    "### Load Data"
   ]
  },
  {
   "cell_type": "code",
   "execution_count": 53,
   "metadata": {},
   "outputs": [],
   "source": [
    "import pandas as pd\n",
    "import re\n",
    "import emoji\n",
    "\n",
    "# Load raw data from CSV\n",
    "df = pd.read_csv('../data/raw/messages.csv')\n"
   ]
  },
  {
   "cell_type": "code",
   "execution_count": 54,
   "metadata": {},
   "outputs": [
    {
     "data": {
      "text/html": [
       "<div>\n",
       "<style scoped>\n",
       "    .dataframe tbody tr th:only-of-type {\n",
       "        vertical-align: middle;\n",
       "    }\n",
       "\n",
       "    .dataframe tbody tr th {\n",
       "        vertical-align: top;\n",
       "    }\n",
       "\n",
       "    .dataframe thead th {\n",
       "        text-align: right;\n",
       "    }\n",
       "</style>\n",
       "<table border=\"1\" class=\"dataframe\">\n",
       "  <thead>\n",
       "    <tr style=\"text-align: right;\">\n",
       "      <th></th>\n",
       "      <th>message_id</th>\n",
       "      <th>sender_id</th>\n",
       "      <th>message_text</th>\n",
       "      <th>channel</th>\n",
       "      <th>date</th>\n",
       "    </tr>\n",
       "  </thead>\n",
       "  <tbody>\n",
       "    <tr>\n",
       "      <th>0</th>\n",
       "      <td>67881c6f-1ed4-4c2f-aed7-1e37d4d13bfe</td>\n",
       "      <td>-1001102021238</td>\n",
       "      <td>https://youtu.be/5DBoEm-8kmA?si=LDLuEecNfULJVD...</td>\n",
       "      <td>DoctorsET</td>\n",
       "      <td>2023-12-18 17:04:02+00:00</td>\n",
       "    </tr>\n",
       "    <tr>\n",
       "      <th>1</th>\n",
       "      <td>5df99ca4-a74a-43b0-a2db-8b8a9989d594</td>\n",
       "      <td>-1001102021238</td>\n",
       "      <td>ዶክተርስ ኢትዮጵያ በ አዲስ አቀራረብ በ ቴሌቪዥን ፕሮግራሙን ለመጀመር ከ...</td>\n",
       "      <td>DoctorsET</td>\n",
       "      <td>2023-11-03 16:14:39+00:00</td>\n",
       "    </tr>\n",
       "    <tr>\n",
       "      <th>2</th>\n",
       "      <td>ee3ca8d8-7494-4676-a207-f3aab446fa81</td>\n",
       "      <td>-1001102021238</td>\n",
       "      <td>ሞት በስኳር \\n\\nለልጆቻችን የምናሲዘው ምሳቃ ሳናቀው እድሚያቸውን ይቀን...</td>\n",
       "      <td>DoctorsET</td>\n",
       "      <td>2023-10-02 16:37:39+00:00</td>\n",
       "    </tr>\n",
       "    <tr>\n",
       "      <th>3</th>\n",
       "      <td>93443f80-59fb-416e-8da6-06c9b9a7d78a</td>\n",
       "      <td>-1001102021238</td>\n",
       "      <td>ከ HIV የተፈወሰ ሰው አጋጥሟችሁ ያቃል ? ፈውስ እና ህክምና ?\\n\\nሙ...</td>\n",
       "      <td>DoctorsET</td>\n",
       "      <td>2023-09-16 07:54:32+00:00</td>\n",
       "    </tr>\n",
       "    <tr>\n",
       "      <th>4</th>\n",
       "      <td>d812334d-6306-459e-b451-d90e065dc33d</td>\n",
       "      <td>-1001102021238</td>\n",
       "      <td>በቅርብ ጊዜ በሃገራችን ላይ እየተስተዋለ ያለ የተመሳሳይ ፆታ ( Homos...</td>\n",
       "      <td>DoctorsET</td>\n",
       "      <td>2023-09-01 16:16:15+00:00</td>\n",
       "    </tr>\n",
       "  </tbody>\n",
       "</table>\n",
       "</div>"
      ],
      "text/plain": [
       "                             message_id      sender_id  \\\n",
       "0  67881c6f-1ed4-4c2f-aed7-1e37d4d13bfe -1001102021238   \n",
       "1  5df99ca4-a74a-43b0-a2db-8b8a9989d594 -1001102021238   \n",
       "2  ee3ca8d8-7494-4676-a207-f3aab446fa81 -1001102021238   \n",
       "3  93443f80-59fb-416e-8da6-06c9b9a7d78a -1001102021238   \n",
       "4  d812334d-6306-459e-b451-d90e065dc33d -1001102021238   \n",
       "\n",
       "                                        message_text    channel  \\\n",
       "0  https://youtu.be/5DBoEm-8kmA?si=LDLuEecNfULJVD...  DoctorsET   \n",
       "1  ዶክተርስ ኢትዮጵያ በ አዲስ አቀራረብ በ ቴሌቪዥን ፕሮግራሙን ለመጀመር ከ...  DoctorsET   \n",
       "2  ሞት በስኳር \\n\\nለልጆቻችን የምናሲዘው ምሳቃ ሳናቀው እድሚያቸውን ይቀን...  DoctorsET   \n",
       "3  ከ HIV የተፈወሰ ሰው አጋጥሟችሁ ያቃል ? ፈውስ እና ህክምና ?\\n\\nሙ...  DoctorsET   \n",
       "4  በቅርብ ጊዜ በሃገራችን ላይ እየተስተዋለ ያለ የተመሳሳይ ፆታ ( Homos...  DoctorsET   \n",
       "\n",
       "                        date  \n",
       "0  2023-12-18 17:04:02+00:00  \n",
       "1  2023-11-03 16:14:39+00:00  \n",
       "2  2023-10-02 16:37:39+00:00  \n",
       "3  2023-09-16 07:54:32+00:00  \n",
       "4  2023-09-01 16:16:15+00:00  "
      ]
     },
     "execution_count": 54,
     "metadata": {},
     "output_type": "execute_result"
    }
   ],
   "source": [
    "df.head()"
   ]
  },
  {
   "cell_type": "code",
   "execution_count": 55,
   "metadata": {},
   "outputs": [],
   "source": [
    "# Function to remove punctuation\n",
    "def remove_punctuation(text):\n",
    "    # Remove punctuation using regex\n",
    "    return re.sub(r'[^\\w\\s]', '', text)\n",
    "\n",
    "# Function to remove emojis\n",
    "def remove_emojis(text):\n",
    "    # Use emoji library to replace emojis with an empty string\n",
    "    return emoji.replace_emoji(text, replace='')\n",
    "\n",
    "# Function to clean message text\n",
    "def clean_message_text(text):\n",
    "    if not isinstance(text, str):\n",
    "        return ''  # If the text is not a string (e.g., NaN or float), return an empty string\n",
    "    text = remove_emojis(text)  # First, remove emojis\n",
    "    # text = remove_punctuation(text)  # Then, remove punctuation\n",
    "    return text"
   ]
  },
  {
   "cell_type": "markdown",
   "metadata": {},
   "source": [
    "### Removing Duplicates"
   ]
  },
  {
   "cell_type": "code",
   "execution_count": 56,
   "metadata": {},
   "outputs": [],
   "source": [
    "df.drop_duplicates(subset='message_id', inplace=True)\n"
   ]
  },
  {
   "cell_type": "code",
   "execution_count": 57,
   "metadata": {},
   "outputs": [],
   "source": [
    "\n",
    "# Drop rows where 'message_text' is missing\n",
    "df.dropna(subset=['message_text'], inplace=True)\n",
    "\n"
   ]
  },
  {
   "cell_type": "markdown",
   "metadata": {},
   "source": [
    "### Standardizing Formats"
   ]
  },
  {
   "cell_type": "code",
   "execution_count": 58,
   "metadata": {},
   "outputs": [],
   "source": [
    "df['date'] = pd.to_datetime(df['date'], errors='coerce')  # Convert to datetime\n"
   ]
  },
  {
   "cell_type": "code",
   "execution_count": 59,
   "metadata": {},
   "outputs": [
    {
     "name": "stdout",
     "output_type": "stream",
     "text": [
      "<class 'pandas.core.frame.DataFrame'>\n",
      "Index: 2377 entries, 0 to 2525\n",
      "Data columns (total 5 columns):\n",
      " #   Column        Non-Null Count  Dtype              \n",
      "---  ------        --------------  -----              \n",
      " 0   message_id    2377 non-null   object             \n",
      " 1   sender_id     2377 non-null   int64              \n",
      " 2   message_text  2377 non-null   object             \n",
      " 3   channel       2377 non-null   object             \n",
      " 4   date          2377 non-null   datetime64[ns, UTC]\n",
      "dtypes: datetime64[ns, UTC](1), int64(1), object(3)\n",
      "memory usage: 111.4+ KB\n"
     ]
    }
   ],
   "source": [
    "df.info()"
   ]
  },
  {
   "cell_type": "markdown",
   "metadata": {},
   "source": [
    "### Data Validation"
   ]
  },
  {
   "cell_type": "code",
   "execution_count": 60,
   "metadata": {},
   "outputs": [],
   "source": [
    "# Validate that message_id is unique\n",
    "assert df['message_id'].is_unique, \"Duplicate message IDs found!\"\n",
    "\n",
    "# Validate that dates are not in the future\n",
    "# Convert pd.Timestamp.now() to UTC to match df['date']\n",
    "now_utc = pd.Timestamp.now(tz='UTC')\n",
    "\n",
    "# Filter rows where 'date' is less than or equal to the current timestamp\n",
    "df = df[df['date'] <= now_utc]\n",
    "\n"
   ]
  },
  {
   "cell_type": "code",
   "execution_count": 61,
   "metadata": {},
   "outputs": [],
   "source": [
    "# Apply cleaning to message_text column\n",
    "df['message_text'] = df['message_text'].apply(clean_message_text)"
   ]
  },
  {
   "cell_type": "code",
   "execution_count": 62,
   "metadata": {},
   "outputs": [],
   "source": [
    "df.to_csv('../data/cleaned/cleaned_data.csv', index=False)\n"
   ]
  },
  {
   "cell_type": "markdown",
   "metadata": {},
   "source": [
    "# Task 3"
   ]
  },
  {
   "cell_type": "code",
   "execution_count": 1,
   "metadata": {},
   "outputs": [],
   "source": [
    "import os\n",
    "import logging\n",
    "import torch\n",
    "import cv2\n",
    "from datetime import datetime\n",
    "import pandas as pd\n",
    "from sqlalchemy import create_engine"
   ]
  },
  {
   "cell_type": "code",
   "execution_count": 3,
   "metadata": {},
   "outputs": [],
   "source": [
    "# Setup logging\n",
    "logging.basicConfig(filename='../logs/yolo_detection.log', level=logging.INFO, format='%(asctime)s - %(message)s')"
   ]
  },
  {
   "cell_type": "code",
   "execution_count": 4,
   "metadata": {},
   "outputs": [
    {
     "name": "stderr",
     "output_type": "stream",
     "text": [
      "c:\\Users\\zelalem.wubet\\projects\\personal\\ten-academy\\telegram-medical-business-data-warehouse\\venv\\Lib\\site-packages\\torch\\hub.py:295: UserWarning: You are about to download and run code from an untrusted repository. In a future release, this won't be allowed. To add the repository to your trusted list, change the command to {calling_fn}(..., trust_repo=False) and a command prompt will appear asking for an explicit confirmation of trust, or load(..., trust_repo=True), which will assume that the prompt is to be answered with 'yes'. You can also use load(..., trust_repo='check') which will only prompt for confirmation if the repo is not already trusted. This will eventually be the default behaviour\n",
      "  warnings.warn(\n",
      "Downloading: \"https://github.com/ultralytics/yolov5/zipball/master\" to C:\\Users\\zelalem.wubet/.cache\\torch\\hub\\master.zip\n"
     ]
    },
    {
     "name": "stdout",
     "output_type": "stream",
     "text": [
      "Creating new Ultralytics Settings v0.0.6 file  \n",
      "View Ultralytics Settings with 'yolo settings' or at 'C:\\Users\\zelalem.wubet\\AppData\\Roaming\\Ultralytics\\settings.json'\n",
      "Update Settings with 'yolo settings key=value', i.e. 'yolo settings runs_dir=path/to/dir'. For help see https://docs.ultralytics.com/quickstart/#ultralytics-settings.\n"
     ]
    },
    {
     "name": "stderr",
     "output_type": "stream",
     "text": [
      "YOLOv5  2024-10-12 Python-3.12.3 torch-2.4.1+cpu CPU\n",
      "\n",
      "Downloading https://github.com/ultralytics/yolov5/releases/download/v7.0/yolov5s.pt to yolov5s.pt...\n",
      "100%|██████████| 14.1M/14.1M [00:03<00:00, 4.05MB/s]\n",
      "\n",
      "Fusing layers... \n",
      "YOLOv5s summary: 213 layers, 7225885 parameters, 0 gradients, 16.4 GFLOPs\n",
      "Adding AutoShape... \n"
     ]
    }
   ],
   "source": [
    "# Load the YOLOv5 model\n",
    "model = torch.hub.load('ultralytics/yolov5', 'yolov5s')  # Pre-trained YOLOv5 model"
   ]
  },
  {
   "cell_type": "code",
   "execution_count": 5,
   "metadata": {},
   "outputs": [],
   "source": [
    "# PostgreSQL configuration\n",
    "db_config = {\n",
    "    'user': 'postgres',\n",
    "    'password': 'password',\n",
    "    'host': 'localhost',\n",
    "    'port': 5432,\n",
    "    'database': 'medical_data_warehouse'\n",
    "}\n"
   ]
  },
  {
   "cell_type": "code",
   "execution_count": 6,
   "metadata": {},
   "outputs": [],
   "source": [
    "# Function to store detection data to the database\n",
    "def store_detections_to_db(data):\n",
    "    try:\n",
    "        engine = create_engine(f'postgresql+psycopg2://{db_config[\"user\"]}:{db_config[\"password\"]}@{db_config[\"host\"]}:{db_config[\"port\"]}/{db_config[\"database\"]}')\n",
    "        df = pd.DataFrame(data)\n",
    "        df.to_sql('object_detections', engine, if_exists='append', index=False)\n",
    "        logging.info(f\"Stored {len(df)} detection records to the database.\")\n",
    "    except Exception as e:\n",
    "        logging.error(f\"Error storing detection data to the database: {e}\")"
   ]
  },
  {
   "cell_type": "code",
   "execution_count": 7,
   "metadata": {},
   "outputs": [],
   "source": [
    "# Function to store detection data to the database\n",
    "def store_detections_to_db(data):\n",
    "    try:\n",
    "        engine = create_engine(f'postgresql+psycopg2://{db_config[\"user\"]}:{db_config[\"password\"]}@{db_config[\"host\"]}:{db_config[\"port\"]}/{db_config[\"database\"]}')\n",
    "        df = pd.DataFrame(data)\n",
    "        df.to_sql('object_detections', engine, if_exists='append', index=False)\n",
    "        logging.info(f\"Stored {len(df)} detection records to the database.\")\n",
    "    except Exception as e:\n",
    "        logging.error(f\"Error storing detection data to the database: {e}\")\n"
   ]
  },
  {
   "cell_type": "code",
   "execution_count": 8,
   "metadata": {},
   "outputs": [],
   "source": [
    "# Function to process images and detect objects\n",
    "def detect_objects(image_folder):\n",
    "    detections = []\n",
    "    for image_file in os.listdir(image_folder):\n",
    "        if image_file.endswith('.jpg') or image_file.endswith('.png'):\n",
    "            image_path = os.path.join(image_folder, image_file)\n",
    "            logging.info(f\"Processing image: {image_path}\")\n",
    "\n",
    "            # Load the image\n",
    "            img = cv2.imread(image_path)\n",
    "\n",
    "            # Perform object detection\n",
    "            results = model(img)\n",
    "\n",
    "            # Extract relevant detection data\n",
    "            for detection in results.xyxy[0]:  # xyxy format for bounding boxes\n",
    "                xmin, ymin, xmax, ymax, confidence, class_id = detection[:6]\n",
    "                class_name = model.names[int(class_id)]\n",
    "\n",
    "                # Log the detection\n",
    "                logging.info(f\"Detected {class_name} with confidence {confidence:.2f} in {image_file}\")\n",
    "\n",
    "                # Prepare detection data for storage\n",
    "                detections.append({\n",
    "                    'image_name': image_file,\n",
    "                    'class_name': class_name,\n",
    "                    'confidence': confidence.item(),\n",
    "                    'xmin': xmin.item(),\n",
    "                    'ymin': ymin.item(),\n",
    "                    'xmax': xmax.item(),\n",
    "                    'ymax': ymax.item(),\n",
    "                    'detection_time': datetime.now()\n",
    "                })\n",
    "\n",
    "    # Store detection results to the database\n",
    "    if detections:\n",
    "        store_detections_to_db(detections)"
   ]
  },
  {
   "cell_type": "code",
   "execution_count": 9,
   "metadata": {},
   "outputs": [],
   "source": [
    "\n",
    "\n",
    "\n",
    "\n",
    "\n",
    "\n",
    "# Main function to trigger the object detection\n",
    "def main():\n",
    "    image_folder = '..data/raw/images/'  # Folder containing images\n",
    "    detect_objects(image_folder)\n",
    "    logging.info(\"Object detection completed.\")\n",
    "\n",
    "if __name__ == '__main__':\n",
    "    try:\n",
    "        main()\n",
    "    except Exception as e:\n",
    "        logging.error(f\"An error occurred during object detection: {e}\")"
   ]
  }
 ],
 "metadata": {
  "kernelspec": {
   "display_name": "venv",
   "language": "python",
   "name": "python3"
  },
  "language_info": {
   "codemirror_mode": {
    "name": "ipython",
    "version": 3
   },
   "file_extension": ".py",
   "mimetype": "text/x-python",
   "name": "python",
   "nbconvert_exporter": "python",
   "pygments_lexer": "ipython3",
   "version": "3.12.3"
  }
 },
 "nbformat": 4,
 "nbformat_minor": 2
}
